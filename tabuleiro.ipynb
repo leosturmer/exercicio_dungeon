{
 "cells": [
  {
   "cell_type": "code",
   "execution_count": 9,
   "id": "ef09dd2c",
   "metadata": {},
   "outputs": [
    {
     "name": "stdout",
     "output_type": "stream",
     "text": [
      "#_#_#_#_\n",
      "_#_#_#_#\n",
      "#_#_#_#_\n",
      "_#_#_#_#\n",
      "#_#_#_#_\n",
      "_#_#_#_#\n",
      "#_#_#_#_\n",
      "_#_#_#_#\n"
     ]
    }
   ],
   "source": [
    "### Criar tabuleiro intercalando # e \"_\"\n",
    "\n",
    "def criar_tabuleiro():\n",
    "    x = int(input('Digite o primeiro valor: '))\n",
    "    y = int(input('Digite o segundo valor: '))\n",
    "\n",
    "    quantidade_tabuleiro = (x, y)\n",
    "\n",
    "    for x in quantidade_tabuleiro:\n",
    "        for y in quantidade_tabuleiro:\n",
    "            print(\"#_\" * x)\n",
    "            print(\"_#\" * y)\n",
    "        \n",
    "\n",
    "criar_tabuleiro()\n",
    "\n"
   ]
  },
  {
   "cell_type": "code",
   "execution_count": 10,
   "id": "23a3d8b6",
   "metadata": {},
   "outputs": [
    {
     "ename": "ValueError",
     "evalue": "invalid literal for int() with base 10: ''",
     "output_type": "error",
     "traceback": [
      "\u001b[31m---------------------------------------------------------------------------\u001b[39m",
      "\u001b[31mValueError\u001b[39m                                Traceback (most recent call last)",
      "\u001b[36mCell\u001b[39m\u001b[36m \u001b[39m\u001b[32mIn[10]\u001b[39m\u001b[32m, line 15\u001b[39m\n\u001b[32m     11\u001b[39m             \u001b[38;5;28mprint\u001b[39m(\u001b[33m\"\u001b[39m\u001b[33m_#\u001b[39m\u001b[33m\"\u001b[39m * colunas)\n\u001b[32m     12\u001b[39m             contador += \u001b[32m1\u001b[39m\n\u001b[32m---> \u001b[39m\u001b[32m15\u001b[39m \u001b[43mcriar_tabuleiro\u001b[49m\u001b[43m(\u001b[49m\u001b[43m)\u001b[49m\n",
      "\u001b[36mCell\u001b[39m\u001b[36m \u001b[39m\u001b[32mIn[10]\u001b[39m\u001b[32m, line 2\u001b[39m, in \u001b[36mcriar_tabuleiro\u001b[39m\u001b[34m()\u001b[39m\n\u001b[32m      1\u001b[39m \u001b[38;5;28;01mdef\u001b[39;00m\u001b[38;5;250m \u001b[39m\u001b[34mcriar_tabuleiro\u001b[39m():\n\u001b[32m----> \u001b[39m\u001b[32m2\u001b[39m     linhas = \u001b[38;5;28;43mint\u001b[39;49m\u001b[43m(\u001b[49m\u001b[38;5;28;43minput\u001b[39;49m\u001b[43m(\u001b[49m\u001b[33;43m'\u001b[39;49m\u001b[33;43mDigite a quantidade de linhas: \u001b[39;49m\u001b[33;43m'\u001b[39;49m\u001b[43m)\u001b[49m\u001b[43m)\u001b[49m\n\u001b[32m      3\u001b[39m     colunas = \u001b[38;5;28mint\u001b[39m(\u001b[38;5;28minput\u001b[39m(\u001b[33m'\u001b[39m\u001b[33mDigite a quantidade de colunas: \u001b[39m\u001b[33m'\u001b[39m))\n\u001b[32m      5\u001b[39m     quantidade_tabuleiro = (linhas, colunas)\n",
      "\u001b[31mValueError\u001b[39m: invalid literal for int() with base 10: ''"
     ]
    }
   ],
   "source": [
    "def criar_tabuleiro():\n",
    "    linhas = int(input('Digite a quantidade de linhas: '))\n",
    "    colunas = int(input('Digite a quantidade de colunas: '))\n",
    "\n",
    "    quantidade_tabuleiro = (linhas, colunas)\n",
    "\n",
    "    contador = 0\n",
    "\n",
    "    while contador <= linhas:\n",
    "        for linhas in quantidade_tabuleiro:\n",
    "            print(\"_#\" * colunas)\n",
    "            contador += 1\n",
    "\n",
    "\n",
    "criar_tabuleiro()"
   ]
  },
  {
   "cell_type": "code",
   "execution_count": null,
   "id": "432c18d2",
   "metadata": {},
   "outputs": [
    {
     "name": "stdout",
     "output_type": "stream",
     "text": [
      "   [#]   [#]   [#]   [#]   [#]   [#]   [#]   [#]   [#]   [#]\n",
      "[#]   [#]   [#]   [#]   [#]   [#]   [#]   [#]   [#]   [#]   \n",
      "   [#]   [#]   [#]   [#]   [#]   [#]   [#]   [#]   [#]   [#]\n",
      "[#]   [#]   [#]   [#]   [#]   [#]   [#]   [#]   [#]   [#]   \n",
      "   [#]   [#]   [#]   [#]   [#]   [#]   [#]   [#]   [#]   [#]\n",
      "[#]   [#]   [#]   [#]   [#]   [#]   [#]   [#]   [#]   [#]   \n",
      "   [#]   [#]   [#]   [#]   [#]   [#]   [#]   [#]   [#]   [#]\n",
      "[#]   [#]   [#]   [#]   [#]   [#]   [#]   [#]   [#]   [#]   \n",
      "   [#]   [#]   [#]   [#]   [#]   [#]   [#]   [#]   [#]   [#]\n",
      "[#]   [#]   [#]   [#]   [#]   [#]   [#]   [#]   [#]   [#]   \n"
     ]
    }
   ],
   "source": [
    "def criar_tabuleiro():\n",
    "    linhas = int(input('Digite a quantidade de linhas: '))\n",
    "    colunas = int(input('Digite a quantidade de colunas: '))\n",
    "\n",
    "    tamanho_tabuleiro = (linhas, colunas)\n",
    "\n",
    "    contador = 0\n",
    "\n",
    "    while contador < linhas:\n",
    "        for linhas in tamanho_tabuleiro:\n",
    "            if contador % 2 == 0:\n",
    "                print(\"   [#]\" * colunas)\n",
    "            else:\n",
    "                print(\"[#]   \" * colunas)\n",
    "            contador += 1\n",
    "\n",
    "\n",
    "criar_tabuleiro()"
   ]
  },
  {
   "cell_type": "code",
   "execution_count": null,
   "id": "25813d2b",
   "metadata": {},
   "outputs": [
    {
     "name": "stdout",
     "output_type": "stream",
     "text": [
      "   [#]   [#]   [#]   [#]   [#]   [#]   [#]   [#]   [#]   [#]\n",
      "[#]   [#]   [#]   [#]   [#]   [#]   [#]   [#]   [#]   [#]   \n",
      "   [#]   [#]   [#]   [#]   [#]   [#]   [#]   [#]   [#]   [#]\n",
      "[#]   [#]   [#]   [#]   [#]   [#]   [#]   [#]   [#]   [#]   \n",
      "   [#]   [#]   [#]   [#]   [#]   [#]   [#]   [#]   [#]   [#]\n",
      "[#]   [#]   [#]   [#]   [#]   [#]   [#]   [#]   [#]   [#]   \n",
      "   [#]   [#]   [#]   [#]   [#]   [#]   [#]   [#]   [#]   [#]\n",
      "[#]   [#]   [#]   [#]   [#]   [#]   [#]   [#]   [#]   [#]   \n",
      "   [#]   [#]   [#]   [#]   [#]   [#]   [#]   [#]   [#]   [#]\n",
      "[#]   [#]   [#]   [#]   [#]   [#]   [#]   [#]   [#]   [#]   \n"
     ]
    }
   ],
   "source": [
    "def criar_tabuleiro():\n",
    "    linhas = int(input('Digite a quantidade de linhas: '))\n",
    "    colunas = int(input('Digite a quantidade de colunas: '))\n",
    "\n",
    "    tamanho_tabuleiro = (linhas, colunas)\n",
    "\n",
    "    contador = 0\n",
    "\n",
    "    if linhas % 2 == 0:\n",
    "         \n",
    "    while contador < linhas:\n",
    "        for linhas in tamanho_tabuleiro:\n",
    "            if contador % 2 == 0:\n",
    "                print(\"   [#]\" * colunas)\n",
    "            else:\n",
    "                    print(\"[#]   \" * colunas)\n",
    "            contador += 1\n",
    "\n",
    "\n",
    "criar_tabuleiro()"
   ]
  },
  {
   "cell_type": "code",
   "execution_count": null,
   "id": "474f835a",
   "metadata": {},
   "outputs": [
    {
     "name": "stdout",
     "output_type": "stream",
     "text": [
      "   [#]   [#]\n",
      "[#]   [#]   \n",
      "   [#]   [#]\n",
      "[#]   [#]   \n"
     ]
    }
   ],
   "source": [
    "def criar_tabuleiro():\n",
    "    linhas = int(input('Digite a quantidade de linhas: '))\n",
    "    colunas = int(input('Digite a quantidade de colunas: '))\n",
    "\n",
    "    tamanho_tabuleiro = (linhas, colunas)\n",
    "\n",
    "    contador = 0\n",
    "\n",
    "    colunas = int((colunas /2) + (colunas % 2)) \n",
    "    \n",
    "    while contador < linhas:\n",
    "        for linhas in tamanho_tabuleiro:\n",
    "            if contador % 2 == 0:\n",
    "                print(\"   [#]\" * colunas)\n",
    "            else:\n",
    "                    print(\"[#]   \" * colunas)\n",
    "            contador += 1\n",
    "\n",
    "\n",
    "criar_tabuleiro()"
   ]
  },
  {
   "cell_type": "code",
   "execution_count": 65,
   "id": "f114107c",
   "metadata": {},
   "outputs": [
    {
     "name": "stdout",
     "output_type": "stream",
     "text": [
      "   [#]   [#]\n",
      "[#]   [#]   \n",
      "   [#]   [#]\n",
      "[#]   [#]   \n"
     ]
    }
   ],
   "source": [
    "### Funciona só com número par\n",
    "### com número ímpar ele imprime uma linha e uma coluna a mais\n",
    "\n",
    "def criar_tabuleiro():\n",
    "    linhas = int(input('Digite a quantidade de linhas: '))\n",
    "    colunas = int(input('Digite a quantidade de colunas: '))\n",
    "\n",
    "    tamanho_tabuleiro = (linhas, colunas)\n",
    "\n",
    "#    if colunas % 2 == 0:\n",
    "#        colunas = int((colunas /2) + (colunas % 2))\n",
    "#    else:\n",
    "    colunas = int((colunas /2) + (colunas % 2))\n",
    "   \n",
    "\n",
    "    contador = 0\n",
    "\n",
    "    while contador < linhas:\n",
    "        for linhas in tamanho_tabuleiro:\n",
    "            if contador % 2 == 0:\n",
    "                print(\"   [#]\" * colunas)\n",
    "                contador += 1\n",
    "            else:\n",
    "                print(\"[#]   \" * colunas)\n",
    "                contador += 1\n",
    "\n",
    "\n",
    "criar_tabuleiro()"
   ]
  },
  {
   "cell_type": "markdown",
   "id": "dd44d52c",
   "metadata": {},
   "source": [
    "### Ideias para mapa"
   ]
  },
  {
   "cell_type": "code",
   "execution_count": 44,
   "id": "8c3dc110",
   "metadata": {},
   "outputs": [],
   "source": [
    "mapa = [\n",
    "    ['x', '#', 'x', '#', 'x'],\n",
    "    ['#', 'x', '#', 'x', '#'],\n",
    "    ['#', 'x', '#', 'x', '#'],\n",
    "    ['x', '#', 'x', '#', 'x'],\n",
    "    ['#', 'x', '#', 'x', '#'],\n",
    "    ['x', '#', 'x', '#', 'x'],\n",
    "    ['#', 'x', '#', 'x', '#']\n",
    "]\n",
    "\n",
    "def put_item(item, linha, coluna):\n",
    "    mapa[linha-1][coluna-1] = item\n",
    "\n",
    "def get_valor_da_casa(linha, coluna):\n",
    "    return mapa[linha-1][coluna-1]\n",
    "\n"
   ]
  },
  {
   "cell_type": "code",
   "execution_count": 45,
   "id": "06d36a5a",
   "metadata": {},
   "outputs": [],
   "source": [
    "def imprimir_mapa():\n",
    "    for linha in mapa:\n",
    "        #imprimir uma linha\n",
    "        for valor in linha:\n",
    "            print(valor, end=' ')\n",
    "            #finalizar com uma nova linha\n",
    "        print()"
   ]
  },
  {
   "cell_type": "code",
   "execution_count": 46,
   "id": "183a838e",
   "metadata": {},
   "outputs": [
    {
     "name": "stdout",
     "output_type": "stream",
     "text": [
      "x # x # x \n",
      "# x # x # \n",
      "# x # x # \n",
      "x # x # x \n",
      "# x # x # \n",
      "x # x # x \n",
      "# x # x # \n"
     ]
    }
   ],
   "source": [
    "imprimir_mapa()"
   ]
  },
  {
   "cell_type": "code",
   "execution_count": 37,
   "id": "a7379132",
   "metadata": {},
   "outputs": [],
   "source": [
    "put_item('@', 3, 1)"
   ]
  },
  {
   "cell_type": "code",
   "execution_count": 31,
   "id": "49e13479",
   "metadata": {},
   "outputs": [
    {
     "data": {
      "text/plain": [
       "'@'"
      ]
     },
     "execution_count": 31,
     "metadata": {},
     "output_type": "execute_result"
    }
   ],
   "source": [
    "get_valor_da_casa(3, 1)"
   ]
  },
  {
   "cell_type": "code",
   "execution_count": 64,
   "id": "4a435762",
   "metadata": {},
   "outputs": [
    {
     "name": "stdout",
     "output_type": "stream",
     "text": [
      "## #  #   #    #     #      #       \n",
      "  # ## ### #### ##### ######\n",
      "## #  #   #    #     \n",
      "  # ## ### ####\n",
      "## #  #   \n",
      "  # ##\n",
      "## \n",
      " \n"
     ]
    }
   ],
   "source": [
    "linha = 8\n",
    "coluna = 8\n",
    "\n",
    "for linha in range(linha):\n",
    "    for coluna in range(coluna):\n",
    "        if linha % 2 == 0:\n",
    "            print('#', end=' ' * coluna)\n",
    "        else:\n",
    "            print(' ', end='#' * coluna)\n",
    "            \n",
    "    print()"
   ]
  }
 ],
 "metadata": {
  "kernelspec": {
   "display_name": "Python 3",
   "language": "python",
   "name": "python3"
  },
  "language_info": {
   "codemirror_mode": {
    "name": "ipython",
    "version": 3
   },
   "file_extension": ".py",
   "mimetype": "text/x-python",
   "name": "python",
   "nbconvert_exporter": "python",
   "pygments_lexer": "ipython3",
   "version": "3.13.2"
  }
 },
 "nbformat": 4,
 "nbformat_minor": 5
}
