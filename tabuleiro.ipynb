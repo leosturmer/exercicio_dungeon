{
 "cells": [
  {
   "cell_type": "code",
   "execution_count": null,
   "id": "ef09dd2c",
   "metadata": {},
   "outputs": [
    {
     "name": "stdout",
     "output_type": "stream",
     "text": [
      "#_#_#_#_#_#_#_#_#_#_\n",
      "_#_#_#_#_#_#_#_#_#_#\n",
      "#_#_#_#_#_#_#_#_#_#_\n",
      "_#_#_#_#_#\n",
      "#_#_#_#_#_\n",
      "_#_#_#_#_#_#_#_#_#_#\n",
      "#_#_#_#_#_\n",
      "_#_#_#_#_#\n"
     ]
    }
   ],
   "source": [
    "### Criar tabuleiro intercalando # e \"_\"\n",
    "\n",
    "def criar_tabuleiro():\n",
    "    x = int(input('Digite o primeiro valor: '))\n",
    "    y = int(input('Digite o segundo valor: '))\n",
    "\n",
    "    quantidade_tabuleiro = (x, y)\n",
    "\n",
    "    for x in quantidade_tabuleiro:\n",
    "        for y in quantidade_tabuleiro:\n",
    "            print(\"#_\" * x)\n",
    "            print(\"_#\" * y)\n",
    "        \n",
    "\n",
    "criar_tabuleiro()\n",
    "\n"
   ]
  },
  {
   "cell_type": "code",
   "execution_count": 42,
   "id": "23a3d8b6",
   "metadata": {},
   "outputs": [
    {
     "name": "stdout",
     "output_type": "stream",
     "text": [
      "_#_#_#_#_#_#_#_#_#_#\n",
      "_#_#_#_#_#_#_#_#_#_#\n",
      "_#_#_#_#_#_#_#_#_#_#\n",
      "_#_#_#_#_#_#_#_#_#_#\n",
      "_#_#_#_#_#_#_#_#_#_#\n",
      "_#_#_#_#_#_#_#_#_#_#\n",
      "_#_#_#_#_#_#_#_#_#_#\n",
      "_#_#_#_#_#_#_#_#_#_#\n",
      "_#_#_#_#_#_#_#_#_#_#\n",
      "_#_#_#_#_#_#_#_#_#_#\n",
      "_#_#_#_#_#_#_#_#_#_#\n",
      "_#_#_#_#_#_#_#_#_#_#\n"
     ]
    }
   ],
   "source": [
    "def criar_tabuleiro():\n",
    "    linhas = int(input('Digite a quantidade de linhas: '))\n",
    "    colunas = int(input('Digite a quantidade de colunas: '))\n",
    "\n",
    "    quantidade_tabuleiro = (linhas, colunas)\n",
    "\n",
    "    contador = 0\n",
    "\n",
    "    while contador <= linhas:\n",
    "        for linhas in quantidade_tabuleiro:\n",
    "            print(\"_#\" * colunas)\n",
    "            contador += 1\n",
    "\n",
    "\n",
    "criar_tabuleiro()"
   ]
  },
  {
   "cell_type": "code",
   "execution_count": 79,
   "id": "432c18d2",
   "metadata": {},
   "outputs": [
    {
     "name": "stdout",
     "output_type": "stream",
     "text": [
      "   [#]   [#]   [#]   [#]   [#]   [#]   [#]   [#]   [#]   [#]\n",
      "[#]   [#]   [#]   [#]   [#]   [#]   [#]   [#]   [#]   [#]   \n",
      "   [#]   [#]   [#]   [#]   [#]   [#]   [#]   [#]   [#]   [#]\n",
      "[#]   [#]   [#]   [#]   [#]   [#]   [#]   [#]   [#]   [#]   \n",
      "   [#]   [#]   [#]   [#]   [#]   [#]   [#]   [#]   [#]   [#]\n",
      "[#]   [#]   [#]   [#]   [#]   [#]   [#]   [#]   [#]   [#]   \n",
      "   [#]   [#]   [#]   [#]   [#]   [#]   [#]   [#]   [#]   [#]\n",
      "[#]   [#]   [#]   [#]   [#]   [#]   [#]   [#]   [#]   [#]   \n",
      "   [#]   [#]   [#]   [#]   [#]   [#]   [#]   [#]   [#]   [#]\n",
      "[#]   [#]   [#]   [#]   [#]   [#]   [#]   [#]   [#]   [#]   \n"
     ]
    }
   ],
   "source": [
    "def criar_tabuleiro():\n",
    "    linhas = int(input('Digite a quantidade de linhas: '))\n",
    "    colunas = int(input('Digite a quantidade de colunas: '))\n",
    "\n",
    "    tamanho_tabuleiro = (linhas, colunas)\n",
    "\n",
    "    contador = 0\n",
    "\n",
    "    while contador < linhas:\n",
    "        for linhas in tamanho_tabuleiro:\n",
    "            if contador % 2 == 0:\n",
    "                print(\"   [#]\" * colunas)\n",
    "            else:\n",
    "                print(\"[#]   \" * colunas)\n",
    "            contador += 1\n",
    "\n",
    "\n",
    "criar_tabuleiro()"
   ]
  },
  {
   "cell_type": "code",
   "execution_count": null,
   "id": "25813d2b",
   "metadata": {},
   "outputs": [
    {
     "name": "stdout",
     "output_type": "stream",
     "text": [
      "   [#]   [#]   [#]   [#]   [#]   [#]   [#]   [#]   [#]   [#]\n",
      "[#]   [#]   [#]   [#]   [#]   [#]   [#]   [#]   [#]   [#]   \n",
      "   [#]   [#]   [#]   [#]   [#]   [#]   [#]   [#]   [#]   [#]\n",
      "[#]   [#]   [#]   [#]   [#]   [#]   [#]   [#]   [#]   [#]   \n",
      "   [#]   [#]   [#]   [#]   [#]   [#]   [#]   [#]   [#]   [#]\n",
      "[#]   [#]   [#]   [#]   [#]   [#]   [#]   [#]   [#]   [#]   \n",
      "   [#]   [#]   [#]   [#]   [#]   [#]   [#]   [#]   [#]   [#]\n",
      "[#]   [#]   [#]   [#]   [#]   [#]   [#]   [#]   [#]   [#]   \n",
      "   [#]   [#]   [#]   [#]   [#]   [#]   [#]   [#]   [#]   [#]\n",
      "[#]   [#]   [#]   [#]   [#]   [#]   [#]   [#]   [#]   [#]   \n"
     ]
    }
   ],
   "source": [
    "def criar_tabuleiro():\n",
    "    linhas = int(input('Digite a quantidade de linhas: '))\n",
    "    colunas = int(input('Digite a quantidade de colunas: '))\n",
    "\n",
    "    tamanho_tabuleiro = (linhas, colunas)\n",
    "\n",
    "    contador = 0\n",
    "\n",
    "    if linhas % 2 == 0:\n",
    "         \n",
    "    while contador < linhas:\n",
    "        for linhas in tamanho_tabuleiro:\n",
    "            if contador % 2 == 0:\n",
    "                print(\"   [#]\" * colunas)\n",
    "            else:\n",
    "                    print(\"[#]   \" * colunas)\n",
    "            contador += 1\n",
    "\n",
    "\n",
    "criar_tabuleiro()"
   ]
  },
  {
   "cell_type": "code",
   "execution_count": 96,
   "id": "474f835a",
   "metadata": {},
   "outputs": [
    {
     "name": "stdout",
     "output_type": "stream",
     "text": [
      "   [#]   [#]\n",
      "[#]   [#]   \n",
      "   [#]   [#]\n",
      "[#]   [#]   \n",
      "   [#]   [#]\n",
      "[#]   [#]   \n"
     ]
    }
   ],
   "source": [
    "def criar_tabuleiro():\n",
    "    linhas = int(input('Digite a quantidade de linhas: '))\n",
    "    colunas = int(input('Digite a quantidade de colunas: '))\n",
    "\n",
    "    tamanho_tabuleiro = (linhas, colunas)\n",
    "\n",
    "    contador = 0\n",
    "\n",
    "    if linhas % 2 == 0:\n",
    "        colunas = int(colunas/2)\n",
    "    else:\n",
    "        colunas = round((colunas / 2) + (colunas % 2) - 1)\n",
    "         \n",
    "    while contador < linhas:\n",
    "        for linhas in tamanho_tabuleiro:\n",
    "            if contador % 2 == 0:\n",
    "                print(\"   [#]\" * colunas)\n",
    "            else:\n",
    "                    print(\"[#]   \" * colunas)\n",
    "            contador += 1\n",
    "\n",
    "\n",
    "criar_tabuleiro()"
   ]
  },
  {
   "cell_type": "code",
   "execution_count": 119,
   "id": "f114107c",
   "metadata": {},
   "outputs": [
    {
     "name": "stdout",
     "output_type": "stream",
     "text": [
      "   [#]   [#]\n",
      "[#]   [#]   \n",
      "   [#]   [#]\n",
      "[#]   [#]   \n"
     ]
    }
   ],
   "source": [
    "### Funciona só com número par\n",
    "### com número ímpar ele imprime uma linha e uma coluna a mais\n",
    "\n",
    "def criar_tabuleiro():\n",
    "    linhas = int(input('Digite a quantidade de linhas: '))\n",
    "    colunas = int(input('Digite a quantidade de colunas: '))\n",
    "\n",
    "    tamanho_tabuleiro = (linhas, colunas)\n",
    "\n",
    "    if colunas % 2 == 0:\n",
    "        colunas = int((colunas /2) + (colunas % 2))\n",
    "    else:\n",
    "        colunas = int((colunas /2) + (colunas % 2))\n",
    "   \n",
    "\n",
    "    contador = 0\n",
    "\n",
    "    while contador < linhas:\n",
    "        for linhas in tamanho_tabuleiro:\n",
    "            if contador % 2 == 0:\n",
    "                print(\"   [#]\" * colunas)\n",
    "            else:\n",
    "                print(\"[#]   \" * colunas)\n",
    "            contador += 1\n",
    "\n",
    "\n",
    "criar_tabuleiro()"
   ]
  }
 ],
 "metadata": {
  "kernelspec": {
   "display_name": "Python 3",
   "language": "python",
   "name": "python3"
  },
  "language_info": {
   "codemirror_mode": {
    "name": "ipython",
    "version": 3
   },
   "file_extension": ".py",
   "mimetype": "text/x-python",
   "name": "python",
   "nbconvert_exporter": "python",
   "pygments_lexer": "ipython3",
   "version": "3.13.2"
  }
 },
 "nbformat": 4,
 "nbformat_minor": 5
}
