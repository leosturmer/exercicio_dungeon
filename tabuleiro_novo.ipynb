{
 "cells": [
  {
   "cell_type": "markdown",
   "id": "4581c03f",
   "metadata": {},
   "source": [
    "### função imprimir_mapa(linhas, colunas)"
   ]
  },
  {
   "cell_type": "code",
   "execution_count": 1,
   "id": "d7597f36",
   "metadata": {},
   "outputs": [],
   "source": [
    "\n",
    "def imprimir_mapa(linhas, colunas):\n",
    "\n",
    "    mapa = []\n",
    "\n",
    "    for numero_linha in range(linhas):\n",
    "        l = ['[#]' for _ in range(colunas)]\n",
    "\n",
    "        if numero_linha %2 == 0:\n",
    "            for idx in range(0,len(l),2):\n",
    "                l[idx] = '   '       \n",
    "        else:\n",
    "            for idx in range(1,len(l),2):\n",
    "                l[idx] = '   '\n",
    "\n",
    "        mapa.append(l)\n",
    "\n",
    "        # impressão do mapa\n",
    "\n",
    "        for linha in mapa:\n",
    "            for valor in linha:\n",
    "                print(valor, end=' ')\n",
    "            print()       "
   ]
  },
  {
   "cell_type": "markdown",
   "id": "a07fe0dc",
   "metadata": {},
   "source": [
    "### Classe Tabuleiro()"
   ]
  },
  {
   "cell_type": "code",
   "execution_count": 38,
   "id": "1db589b6",
   "metadata": {},
   "outputs": [],
   "source": [
    "class Tabuleiro():\n",
    "\n",
    "    def __init__(self, linhas, colunas):\n",
    "        self.tabuleiro = []\n",
    "    \n",
    "        for numero_linha in range(linhas):\n",
    "            l = ['#' for _ in range(colunas)]\n",
    "\n",
    "            if numero_linha %2 == 0:\n",
    "                for idx in range(0,len(l),2):\n",
    "                    l[idx] = '_'       \n",
    "            else:\n",
    "                for idx in range(1,len(l),2):\n",
    "                    l[idx] = '_'\n",
    "\n",
    "            self.tabuleiro.append(l)\n",
    "\n",
    "    def imprimir(self):\n",
    "        for linha in self.tabuleiro:\n",
    "            for valor in linha:\n",
    "                print(valor, end=' ')\n",
    "            print() \n",
    "\n",
    "    def posicionar_peca(self, peca, linha, coluna):\n",
    "        self.tabuleiro[linha-1][coluna-1] = peca\n",
    "\n",
    "    def get_peca(self, linha, coluna):\n",
    "        return self.tabuleiro[linha-1][coluna-1]\n",
    "\n",
    "\n"
   ]
  },
  {
   "cell_type": "code",
   "execution_count": 41,
   "id": "f843bce3",
   "metadata": {},
   "outputs": [
    {
     "name": "stdout",
     "output_type": "stream",
     "text": [
      "0 # 0 # 0 # 0 # \n",
      "# _ # _ # _ # _ \n",
      "_ # _ # _ # _ # \n",
      "# _ # _ # _ # _ \n",
      "1 # 1 # 1 # 1 # \n"
     ]
    }
   ],
   "source": [
    "tab1 = Tabuleiro(5, 8)\n",
    "\n",
    "tab1.posicionar_peca('0', 1, 1)\n",
    "tab1.posicionar_peca('0', 1, 3)\n",
    "tab1.posicionar_peca('0', 1, 5)\n",
    "tab1.posicionar_peca('0', 1, 7)\n",
    "\n",
    "tab1.posicionar_peca('1', 5, 1)\n",
    "tab1.posicionar_peca('1', 5, 3)\n",
    "tab1.posicionar_peca('1', 5, 5)\n",
    "tab1.posicionar_peca('1', 5, 7)\n",
    "\n",
    "\n",
    "\n",
    "tab1.imprimir()"
   ]
  },
  {
   "cell_type": "markdown",
   "id": "1524ff1d",
   "metadata": {},
   "source": [
    "### Tabuleiro genérico\n",
    "\n",
    "Esse tabuleiro permite posicionar peças e movê-las pelo tabuleiro. O tabuleiro pode ter quaisquer dimensões (linhas x colunas)"
   ]
  },
  {
   "cell_type": "code",
   "execution_count": null,
   "id": "f6e7ac25",
   "metadata": {},
   "outputs": [],
   "source": [
    "class Tabuleiro():\n",
    "\n",
    "    def __init__(self, linhas, colunas):\n",
    "        self.tabuleiro = []\n",
    "        self.num_linhas = linhas\n",
    "        self.num_colunas = colunas\n",
    "    \n",
    "        for numero_linha in range(linhas):\n",
    "            l = ['[ ]' for _ in range(colunas)]\n",
    "            self.tabuleiro.append(l)\n",
    "\n",
    "    def imprimir(self):\n",
    "\n",
    "        print('   ', end='')\n",
    "\n",
    "        for num_colunas in range(1, self.num_colunas+1):\n",
    "            print(f' {num_colunas}: ', end='')\n",
    "        print()\n",
    "\n",
    "        for num_linha, linha in enumerate(self.tabuleiro):\n",
    "            print(num_linha+1, end=': ')\n",
    "            for valor in linha:\n",
    "                print(valor, end=' ')\n",
    "            print() \n",
    "\n",
    "    def posicionar_peca(self, peca, linha, coluna):\n",
    "        self.tabuleiro[linha-1][coluna-1] = f'[{peca}]'\n",
    "\n",
    "    def get_peca(self, linha, coluna):\n",
    "\n",
    "        return self.tabuleiro[linha-1][coluna-1][1]\n",
    "    \n",
    "    def mover_peca(self, lin_orig, col_orig, lin_dest, col_dest):\n",
    "        peca = self.get_peca(lin_orig, col_orig)\n",
    "        self.posicionar_peca(' ', lin_orig, col_orig)\n",
    "        self.posicionar_peca(peca, lin_dest, col_dest)\n",
    "\n"
   ]
  },
  {
   "cell_type": "code",
   "execution_count": 77,
   "id": "946261b6",
   "metadata": {},
   "outputs": [
    {
     "name": "stdout",
     "output_type": "stream",
     "text": [
      "    1:  2:  3:  4:  5:  6:  7:  8: \n",
      "1: [0] [ ] [0] [ ] [ ] [ ] [0] [ ] \n",
      "2: [ ] [ ] [ ] [ ] [ ] [ ] [ ] [ ] \n",
      "3: [ ] [ ] [ ] [ ] [0] [ ] [ ] [ ] \n",
      "4: [ ] [ ] [ ] [ ] [ ] [ ] [ ] [ ] \n",
      "5: [ ] [ ] [ ] [ ] [ ] [ ] [ ] [ ] \n",
      "6: [ ] [ ] [ ] [ ] [ ] [ ] [ ] [ ] \n",
      "7: [ ] [ ] [ ] [ ] [ ] [ ] [ ] [ ] \n",
      "8: [1] [ ] [1] [ ] [1] [ ] [1] [ ] \n"
     ]
    }
   ],
   "source": [
    "tab2 = Tabuleiro(8,8)\n",
    "\n",
    "tab2.posicionar_peca('0', 1, 1)\n",
    "tab2.posicionar_peca('0', 1, 3)\n",
    "tab2.posicionar_peca('0', 1, 5)\n",
    "tab2.posicionar_peca('0', 1, 7)\n",
    "\n",
    "tab2.posicionar_peca('1', 8, 1)\n",
    "tab2.posicionar_peca('1', 8, 3)\n",
    "tab2.posicionar_peca('1', 8, 5)\n",
    "tab2.posicionar_peca('1', 8, 7)\n",
    "\n",
    "tab2.mover_peca(1, 5, 3, 5)\n",
    "\n",
    "\n",
    "tab2.imprimir()"
   ]
  },
  {
   "cell_type": "code",
   "execution_count": 88,
   "id": "2fde5a3f",
   "metadata": {},
   "outputs": [
    {
     "data": {
      "text/plain": [
       "'  o  '"
      ]
     },
     "execution_count": 88,
     "metadata": {},
     "output_type": "execute_result"
    }
   ],
   "source": [
    "'{:^5}'.format('o')"
   ]
  }
 ],
 "metadata": {
  "kernelspec": {
   "display_name": "Python 3",
   "language": "python",
   "name": "python3"
  },
  "language_info": {
   "codemirror_mode": {
    "name": "ipython",
    "version": 3
   },
   "file_extension": ".py",
   "mimetype": "text/x-python",
   "name": "python",
   "nbconvert_exporter": "python",
   "pygments_lexer": "ipython3",
   "version": "3.13.2"
  }
 },
 "nbformat": 4,
 "nbformat_minor": 5
}
