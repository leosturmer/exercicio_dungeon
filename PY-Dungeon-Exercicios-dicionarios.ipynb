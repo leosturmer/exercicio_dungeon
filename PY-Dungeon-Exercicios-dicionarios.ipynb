{
 "cells": [
  {
   "cell_type": "markdown",
   "id": "ae1af446",
   "metadata": {},
   "source": [
    "# Exercícios sobre Uso de Dicionários\n",
    "\n",
    "1. **Criação de Dicionário**  \n",
    "   Crie um dicionário chamado `personagem` com as chaves `\"nome\"`, `\"classe\"` e `\"nivel\"`."
   ]
  },
  {
   "cell_type": "code",
   "execution_count": 30,
   "id": "a9d9de68",
   "metadata": {},
   "outputs": [
    {
     "name": "stdout",
     "output_type": "stream",
     "text": [
      "{'nome': 'Fulano', 'classe': 'Guerreiro', 'nível': 'Avançado'}\n"
     ]
    }
   ],
   "source": [
    "personagem = {}\n",
    "\n",
    "personagem.update({'nome': 'Fulano'})\n",
    "personagem.update({'classe': 'Guerreiro'})\n",
    "personagem.update({'nível': 'Avançado'})\n",
    "\n",
    "print(personagem)\n"
   ]
  },
  {
   "cell_type": "markdown",
   "id": "c5ada131",
   "metadata": {},
   "source": [
    "2. **Acesso a Valores**  \n",
    "   Dado o dicionário `item = {\"nome\": \"espada\", \"dano\": 5}`, escreva um código para imprimir o valor associado à chave `\"dano\"`."
   ]
  },
  {
   "cell_type": "code",
   "execution_count": 32,
   "id": "c143711c",
   "metadata": {},
   "outputs": [
    {
     "name": "stdout",
     "output_type": "stream",
     "text": [
      "5\n",
      "5\n"
     ]
    }
   ],
   "source": [
    "item = {\n",
    "    'nome': 'espada',\n",
    "    'dano': 5\n",
    "}\n",
    "\n",
    "print(item.get('dano'))\n",
    "print(item['dano'])"
   ]
  },
  {
   "cell_type": "markdown",
   "id": "91bd9827",
   "metadata": {},
   "source": [
    "3. **Adição e Remoção de Chaves**  \n",
    "   Adicione a chave `\"protecao\"` com valor `3` ao dicionário `item` e depois remova a chave `\"nome\"`."
   ]
  },
  {
   "cell_type": "code",
   "execution_count": 18,
   "id": "7282aa1a",
   "metadata": {},
   "outputs": [
    {
     "name": "stdout",
     "output_type": "stream",
     "text": [
      "{'dano': 5, 'proteção': 3}\n"
     ]
    }
   ],
   "source": [
    "item.update({'proteção': 3})\n",
    "\n",
    "item.pop('nome')\n",
    "\n",
    "print(item)"
   ]
  },
  {
   "cell_type": "code",
   "execution_count": 37,
   "id": "76c222f2",
   "metadata": {},
   "outputs": [],
   "source": [
    "item['protecao'] = 30\n",
    "\n",
    "del item['nome']"
   ]
  },
  {
   "cell_type": "markdown",
   "id": "4842b41c",
   "metadata": {},
   "source": [
    "4. **Percorrendo Dicionários**  \n",
    "   Escreva um laço que percorra todas as chaves e valores do dicionário `personagem` e imprima cada par."
   ]
  },
  {
   "cell_type": "code",
   "execution_count": 38,
   "id": "fa316ace",
   "metadata": {},
   "outputs": [
    {
     "name": "stdout",
     "output_type": "stream",
     "text": [
      "nome: Fulano\n",
      "classe: Guerreiro\n",
      "nível: Avançado\n"
     ]
    }
   ],
   "source": [
    "for chave, valor in personagem.items():\n",
    "    print(f'{chave}: {valor}')"
   ]
  },
  {
   "cell_type": "markdown",
   "id": "616e155f",
   "metadata": {},
   "source": [
    "5. **Dicionários Aninhados**  \n",
    "   Crie um dicionário chamado `inventario` onde cada chave é o nome de um personagem e o valor é outro dicionário com os itens desse personagem.\n"
   ]
  },
  {
   "cell_type": "code",
   "execution_count": 40,
   "id": "a84fbfcb",
   "metadata": {},
   "outputs": [
    {
     "name": "stdout",
     "output_type": "stream",
     "text": [
      "{'nome': {'item': 'cajado'}, 'mago': {'nome': 'cajado', 'dano': 5}}\n"
     ]
    }
   ],
   "source": [
    "inventario = {\n",
    "    'nome' : {'item' : 'cajado'},\n",
    "    'mago' : {'nome': 'cajado', 'dano' : 5}\n",
    "\n",
    "}\n",
    "\n",
    "print(inventario)"
   ]
  }
 ],
 "metadata": {
  "kernelspec": {
   "display_name": "Python 3",
   "language": "python",
   "name": "python3"
  },
  "language_info": {
   "codemirror_mode": {
    "name": "ipython",
    "version": 3
   },
   "file_extension": ".py",
   "mimetype": "text/x-python",
   "name": "python",
   "nbconvert_exporter": "python",
   "pygments_lexer": "ipython3",
   "version": "3.13.2"
  }
 },
 "nbformat": 4,
 "nbformat_minor": 5
}
