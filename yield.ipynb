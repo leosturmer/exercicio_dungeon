{
 "cells": [
  {
   "cell_type": "code",
   "execution_count": 58,
   "id": "b292d4ce",
   "metadata": {},
   "outputs": [],
   "source": [
    "def coisas(qualidade):\n",
    "    import random\n",
    "\n",
    "    while True:\n",
    "        yield f'Coisa {qualidade} n. {int(random.random() *100)}'\n"
   ]
  },
  {
   "cell_type": "code",
   "execution_count": 59,
   "id": "64396354",
   "metadata": {},
   "outputs": [
    {
     "name": "stdout",
     "output_type": "stream",
     "text": [
      "Coisa azul n. 7\n",
      "Coisa azul n. 89\n",
      "Coisa azul n. 71\n",
      "Coisa azul n. 62\n",
      "Coisa azul n. 59\n",
      "Coisa azul n. 73\n",
      "Coisa azul n. 44\n",
      "Coisa azul n. 19\n",
      "Coisa azul n. 93\n",
      "Coisa azul n. 52\n",
      "Coisa azul n. 82\n",
      "Coisa azul n. 89\n",
      "Coisa azul n. 90\n",
      "Coisa azul n. 27\n",
      "Coisa azul n. 16\n",
      "Coisa azul n. 98\n",
      "Coisa azul n. 34\n",
      "Coisa azul n. 83\n",
      "Coisa azul n. 82\n",
      "Coisa azul n. 10\n",
      "Coisa azul n. 48\n"
     ]
    }
   ],
   "source": [
    "i = 0\n",
    "\n",
    "for coisa in coisas('azul'):\n",
    "    print(coisa)\n",
    "    i += 1\n",
    "    if i>20:\n",
    "        break"
   ]
  }
 ],
 "metadata": {
  "kernelspec": {
   "display_name": "Python 3",
   "language": "python",
   "name": "python3"
  },
  "language_info": {
   "codemirror_mode": {
    "name": "ipython",
    "version": 3
   },
   "file_extension": ".py",
   "mimetype": "text/x-python",
   "name": "python",
   "nbconvert_exporter": "python",
   "pygments_lexer": "ipython3",
   "version": "3.13.2"
  }
 },
 "nbformat": 4,
 "nbformat_minor": 5
}
