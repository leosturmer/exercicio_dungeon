{
 "cells": [
  {
   "cell_type": "markdown",
   "id": "e8eb3da8",
   "metadata": {},
   "source": [
    "# Exercícios sobre Definição de Classes\n",
    "\n",
    "1. **Defina uma classe simples**  \n",
    "   Crie uma classe chamada `Porta` que tenha um atributo `aberta` (booleano) e um método `abrir()` que define `aberta` como `True`.\n",
    "\n",
    "\n"
   ]
  },
  {
   "cell_type": "code",
   "execution_count": 1,
   "id": "40b72ea1",
   "metadata": {},
   "outputs": [],
   "source": [
    "class Porta():\n",
    "    def __init__(self):\n",
    "        self.aberta = False\n",
    "    \n",
    "    def abrir(self):\n",
    "        self.aberta = True"
   ]
  },
  {
   "cell_type": "markdown",
   "id": "6698c80e",
   "metadata": {},
   "source": [
    "2. **Classe com construtor**  \n",
    "   Implemente uma classe `Chave` que recebe um número `codigo` no construtor e armazena esse valor em um atributo.\n",
    "\n"
   ]
  },
  {
   "cell_type": "code",
   "execution_count": 13,
   "id": "3068a2b2",
   "metadata": {},
   "outputs": [],
   "source": [
    "class Chave():\n",
    "    def __init__(self, codigo):\n",
    "        self.codigo = codigo"
   ]
  },
  {
   "cell_type": "markdown",
   "id": "e44911ba",
   "metadata": {},
   "source": [
    "3. **Classe com métodos de instância**  \n",
    "   Crie uma classe `Tesouro` com um atributo `valor` e um método `coletar()` que imprime \"Tesouro coletado!\" e retorna o valor.\n",
    "\n"
   ]
  },
  {
   "cell_type": "code",
   "execution_count": 10,
   "id": "5278674d",
   "metadata": {},
   "outputs": [],
   "source": [
    "class Tesouro():\n",
    "    def __init__(self):\n",
    "        self.valor = 0\n",
    "    \n",
    "    def coletar(self):\n",
    "        print(f'Tesouro coletado! Valor: {self.valor}')"
   ]
  },
  {
   "cell_type": "markdown",
   "id": "61ce4962",
   "metadata": {},
   "source": [
    "4. **Classe com atributos privados**  \n",
    "   Defina uma classe `Cofre` com um atributo privado `_senha` e um método `verificar_senha(senha)` que retorna `True` se a senha estiver correta.\n",
    "\n"
   ]
  },
  {
   "cell_type": "code",
   "execution_count": 11,
   "id": "cbdba93a",
   "metadata": {},
   "outputs": [],
   "source": [
    "class Cofre():\n",
    "    def __init__(self):\n",
    "        self._senha = 'senha'\n",
    "\n",
    "    def verificar_senha(self, senha):\n",
    "        if senha == self._senha:\n",
    "            return True\n",
    "        else:\n",
    "            return False\n",
    "        "
   ]
  },
  {
   "cell_type": "markdown",
   "id": "91510c7e",
   "metadata": {},
   "source": [
    "5. **Classe com herança**  \n",
    "   Implemente uma classe `PortaSecreta` que herda de `Porta` e adiciona um método `revelar()` que imprime \"Uma porta secreta foi revelada!\"."
   ]
  },
  {
   "cell_type": "code",
   "execution_count": 12,
   "id": "bd386e66",
   "metadata": {},
   "outputs": [],
   "source": [
    "class PortaSecreta(Porta):\n",
    "    def revelar(self):\n",
    "        print('Uma porta secreta foi revelada!')"
   ]
  }
 ],
 "metadata": {
  "kernelspec": {
   "display_name": "Python 3",
   "language": "python",
   "name": "python3"
  },
  "language_info": {
   "codemirror_mode": {
    "name": "ipython",
    "version": 3
   },
   "file_extension": ".py",
   "mimetype": "text/x-python",
   "name": "python",
   "nbconvert_exporter": "python",
   "pygments_lexer": "ipython3",
   "version": "3.13.2"
  }
 },
 "nbformat": 4,
 "nbformat_minor": 5
}
