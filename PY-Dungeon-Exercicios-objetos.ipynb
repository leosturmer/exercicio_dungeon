{
 "cells": [
  {
   "cell_type": "code",
   "execution_count": null,
   "id": "8c62d15d",
   "metadata": {},
   "outputs": [],
   "source": [
    "### Classes ipynb\n",
    "\n",
    "class Porta():\n",
    "    def __init__(self):\n",
    "        self.aberta = False\n",
    "    \n",
    "    def abrir(self):\n",
    "        self.aberta = True\n",
    "\n",
    "class Chave():\n",
    "    def __init__(self, codigo):\n",
    "        self.codigo = codigo\n",
    "\n",
    "class Tesouro():\n",
    "    def __init__(self, valor):\n",
    "        self.valor = valor\n",
    "    \n",
    "    def coletar(self):\n",
    "        print(f'Tesouro coletado! Valor: {self.valor}')\n",
    "\n",
    "class Cofre():\n",
    "    def __init__(self, senha):\n",
    "        self._senha = senha\n",
    "\n",
    "    def verificar_senha(self, senha):\n",
    "        if senha == self._senha:\n",
    "            return True\n",
    "        else:\n",
    "            return False\n",
    "        \n",
    "class PortaSecreta(Porta):\n",
    "    def revelar(self):\n",
    "        print('Uma porta secreta foi revelada!')"
   ]
  },
  {
   "cell_type": "markdown",
   "id": "f4c5e7e4",
   "metadata": {},
   "source": [
    "# Exercícios sobre Instanciação e Uso de Objetos\n",
    "\n",
    "1. **Instanciando uma Classe**  \n",
    "   Crie um objeto da classe `Porta` e atribua à variável `porta1`.\n",
    "\n",
    "\n"
   ]
  },
  {
   "cell_type": "code",
   "execution_count": 2,
   "id": "efc62a59",
   "metadata": {},
   "outputs": [],
   "source": [
    "porta1 = Porta()"
   ]
  },
  {
   "cell_type": "markdown",
   "id": "1ededd1e",
   "metadata": {},
   "source": [
    "2. **Acessando Atributos**  \n",
    "   Instancie um objeto da classe `Chave` com o código 123 e imprima o valor do atributo `codigo`.\n",
    "\n"
   ]
  },
  {
   "cell_type": "code",
   "execution_count": 5,
   "id": "6e3dba16",
   "metadata": {},
   "outputs": [
    {
     "name": "stdout",
     "output_type": "stream",
     "text": [
      "123\n"
     ]
    }
   ],
   "source": [
    "chave1 = Chave('123')\n",
    "\n",
    "print(chave1.codigo)"
   ]
  },
  {
   "cell_type": "markdown",
   "id": "d911b228",
   "metadata": {},
   "source": [
    "3. **Chamando Métodos**  \n",
    "   Crie um objeto da classe `Tesouro` com valor 50 e chame o método `coletar()`.\n",
    "\n"
   ]
  },
  {
   "cell_type": "code",
   "execution_count": 9,
   "id": "cc170cb0",
   "metadata": {},
   "outputs": [
    {
     "name": "stdout",
     "output_type": "stream",
     "text": [
      "Tesouro coletado! Valor: 50\n"
     ]
    }
   ],
   "source": [
    "tesouro1 = Tesouro(50)\n",
    "\n",
    "tesouro1.coletar()"
   ]
  },
  {
   "cell_type": "markdown",
   "id": "e4bdade0",
   "metadata": {},
   "source": [
    "4. **Modificando Atributos**  \n",
    "   Instancie um objeto da classe `Porta`, defina o atributo `aberta` como `True` e imprima o valor.\n",
    "\n"
   ]
  },
  {
   "cell_type": "code",
   "execution_count": 10,
   "id": "a8e26f5a",
   "metadata": {},
   "outputs": [
    {
     "name": "stdout",
     "output_type": "stream",
     "text": [
      "True\n"
     ]
    }
   ],
   "source": [
    "porta1 = Porta()\n",
    "\n",
    "porta1.abrir()\n",
    "\n",
    "print(porta1.aberta)"
   ]
  },
  {
   "cell_type": "markdown",
   "id": "90f95cc9",
   "metadata": {},
   "source": [
    "5. **Usando Métodos de Verificação**  \n",
    "   Crie um objeto da classe `Cofre` com a senha \"abc123\" e verifique se a senha \"abc123\" está correta usando o método `verificar_senha`.\n",
    "\n"
   ]
  },
  {
   "cell_type": "code",
   "execution_count": 14,
   "id": "250efe50",
   "metadata": {},
   "outputs": [
    {
     "data": {
      "text/plain": [
       "True"
      ]
     },
     "execution_count": 14,
     "metadata": {},
     "output_type": "execute_result"
    }
   ],
   "source": [
    "cofre1 = Cofre('abc123')\n",
    "\n",
    "cofre1.verificar_senha('abc123')"
   ]
  },
  {
   "cell_type": "markdown",
   "id": "a2a21f15",
   "metadata": {},
   "source": [
    "6. **Herança e Métodos**  \n",
    "   Instancie um objeto da classe `PortaSecreta` e chame o método `revelar()`.\n",
    "\n"
   ]
  },
  {
   "cell_type": "code",
   "execution_count": 15,
   "id": "ce34f9c4",
   "metadata": {},
   "outputs": [
    {
     "name": "stdout",
     "output_type": "stream",
     "text": [
      "Uma porta secreta foi revelada!\n"
     ]
    }
   ],
   "source": [
    "portasecreta1 = PortaSecreta()\n",
    "\n",
    "portasecreta1.revelar()"
   ]
  },
  {
   "cell_type": "markdown",
   "id": "30a0f635",
   "metadata": {},
   "source": [
    "7. **Atribuindo Objetos a Atributos**  \n",
    "   Crie um objeto da classe `Personagem` e atribua a ele uma sala (`Cena`) chamada \"Biblioteca\".\n",
    "\n"
   ]
  },
  {
   "cell_type": "code",
   "execution_count": null,
   "id": "71977136",
   "metadata": {},
   "outputs": [],
   "source": [
    "class Personagem():\n",
    "    def __init__(self, cena):\n",
    "        self.cena = cena\n",
    "        self.inventario = []\n",
    "\n",
    "personagem1 = Personagem('Biblioteca')\n"
   ]
  },
  {
   "cell_type": "markdown",
   "id": "81657ac7",
   "metadata": {},
   "source": [
    "8. **Adicionando Itens ao Inventário**  \n",
    "   Instancie um objeto da classe `Personagem` e adicione um item chamado \"espada\" ao seu inventário.\n",
    "\n"
   ]
  },
  {
   "cell_type": "code",
   "execution_count": null,
   "id": "0adf4310",
   "metadata": {},
   "outputs": [
    {
     "ename": "AttributeError",
     "evalue": "'Personagem' object has no attribute 'inventario'",
     "output_type": "error",
     "traceback": [
      "\u001b[31m---------------------------------------------------------------------------\u001b[39m",
      "\u001b[31mAttributeError\u001b[39m                            Traceback (most recent call last)",
      "\u001b[36mCell\u001b[39m\u001b[36m \u001b[39m\u001b[32mIn[21]\u001b[39m\u001b[32m, line 1\u001b[39m\n\u001b[32m----> \u001b[39m\u001b[32m1\u001b[39m \u001b[43mpersonagem1\u001b[49m\u001b[43m.\u001b[49m\u001b[43minventario\u001b[49m.append(\u001b[33m'\u001b[39m\u001b[33mespada\u001b[39m\u001b[33m'\u001b[39m)\n",
      "\u001b[31mAttributeError\u001b[39m: 'Personagem' object has no attribute 'inventario'"
     ]
    }
   ],
   "source": []
  },
  {
   "cell_type": "markdown",
   "id": "4b7c4516",
   "metadata": {},
   "source": [
    "9. **Equipando um Item**  \n",
    "   Instancie um objeto da classe `Personagem`, adicione um item ao inventário e use o método `equipar` para equipá-lo.\n",
    "\n"
   ]
  },
  {
   "cell_type": "code",
   "execution_count": null,
   "id": "bba45533",
   "metadata": {},
   "outputs": [],
   "source": []
  },
  {
   "cell_type": "markdown",
   "id": "84e541b9",
   "metadata": {},
   "source": [
    "10. **Composição de Objetos**  \n",
    "    Crie dois objetos da classe `Cena`, conecte um ao norte do outro e mostre como acessar a sala ao norte a partir do primeiro objeto."
   ]
  },
  {
   "cell_type": "code",
   "execution_count": null,
   "id": "77c16496",
   "metadata": {},
   "outputs": [],
   "source": []
  }
 ],
 "metadata": {
  "kernelspec": {
   "display_name": "Python 3",
   "language": "python",
   "name": "python3"
  },
  "language_info": {
   "codemirror_mode": {
    "name": "ipython",
    "version": 3
   },
   "file_extension": ".py",
   "mimetype": "text/x-python",
   "name": "python",
   "nbconvert_exporter": "python",
   "pygments_lexer": "ipython3",
   "version": "3.13.2"
  }
 },
 "nbformat": 4,
 "nbformat_minor": 5
}
