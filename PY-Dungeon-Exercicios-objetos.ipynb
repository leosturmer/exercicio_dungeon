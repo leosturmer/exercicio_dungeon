{
 "cells": [
  {
   "cell_type": "markdown",
   "id": "f4c5e7e4",
   "metadata": {},
   "source": [
    "# Exercícios sobre Instanciação e Uso de Objetos\n",
    "\n",
    "1. **Instanciando uma Classe**  \n",
    "   Crie um objeto da classe `Porta` e atribua à variável `porta1`.\n",
    "\n",
    "\n"
   ]
  },
  {
   "cell_type": "code",
   "execution_count": 1,
   "id": "efc62a59",
   "metadata": {},
   "outputs": [],
   "source": [
    "class Porta():\n",
    "    def __init__(self):\n",
    "        pass\n",
    "\n",
    "\n",
    "porta1 = Porta()"
   ]
  },
  {
   "cell_type": "markdown",
   "id": "1ededd1e",
   "metadata": {},
   "source": [
    "2. **Acessando Atributos**  \n",
    "   Instancie um objeto da classe `Chave` com o código 123 e imprima o valor do atributo `codigo`.\n",
    "\n"
   ]
  },
  {
   "cell_type": "code",
   "execution_count": 2,
   "id": "6e3dba16",
   "metadata": {},
   "outputs": [
    {
     "name": "stdout",
     "output_type": "stream",
     "text": [
      "123\n"
     ]
    }
   ],
   "source": [
    "class Chave():\n",
    "    def __init__(self):\n",
    "        self.codigo = 123\n",
    "\n",
    "chave1 = Chave()\n",
    "\n",
    "print(chave1.codigo)"
   ]
  },
  {
   "cell_type": "markdown",
   "id": "d911b228",
   "metadata": {},
   "source": [
    "3. **Chamando Métodos**  \n",
    "   Crie um objeto da classe `Tesouro` com valor 50 e chame o método `coletar()`.\n",
    "\n"
   ]
  },
  {
   "cell_type": "code",
   "execution_count": null,
   "id": "cc170cb0",
   "metadata": {},
   "outputs": [],
   "source": [
    "class Tesouro():\n",
    "    def __init__(self):\n",
    "        self.valor = 50\n",
    "\n",
    "    def coletar():\n",
    "        pass\n",
    "\n"
   ]
  },
  {
   "cell_type": "markdown",
   "id": "e4bdade0",
   "metadata": {},
   "source": [
    "4. **Modificando Atributos**  \n",
    "   Instancie um objeto da classe `Porta`, defina o atributo `aberta` como `True` e imprima o valor.\n",
    "\n"
   ]
  },
  {
   "cell_type": "markdown",
   "id": "90f95cc9",
   "metadata": {},
   "source": [
    "5. **Usando Métodos de Verificação**  \n",
    "   Crie um objeto da classe `Cofre` com a senha \"abc123\" e verifique se a senha \"abc123\" está correta usando o método `verificar_senha`.\n",
    "\n"
   ]
  },
  {
   "cell_type": "markdown",
   "id": "a2a21f15",
   "metadata": {},
   "source": [
    "6. **Herança e Métodos**  \n",
    "   Instancie um objeto da classe `PortaSecreta` e chame o método `revelar()`.\n",
    "\n"
   ]
  },
  {
   "cell_type": "markdown",
   "id": "30a0f635",
   "metadata": {},
   "source": [
    "7. **Atribuindo Objetos a Atributos**  \n",
    "   Crie um objeto da classe `Personagem` e atribua a ele uma sala (`Cena`) chamada \"Biblioteca\".\n",
    "\n"
   ]
  },
  {
   "cell_type": "markdown",
   "id": "81657ac7",
   "metadata": {},
   "source": [
    "8. **Adicionando Itens ao Inventário**  \n",
    "   Instancie um objeto da classe `Personagem` e adicione um item chamado \"espada\" ao seu inventário.\n",
    "\n"
   ]
  },
  {
   "cell_type": "markdown",
   "id": "4b7c4516",
   "metadata": {},
   "source": [
    "9. **Equipando um Item**  \n",
    "   Instancie um objeto da classe `Personagem`, adicione um item ao inventário e use o método `equipar` para equipá-lo.\n",
    "\n"
   ]
  },
  {
   "cell_type": "markdown",
   "id": "84e541b9",
   "metadata": {},
   "source": [
    "10. **Composição de Objetos**  \n",
    "    Crie dois objetos da classe `Cena`, conecte um ao norte do outro e mostre como acessar a sala ao norte a partir do primeiro objeto."
   ]
  }
 ],
 "metadata": {
  "kernelspec": {
   "display_name": "Python 3",
   "language": "python",
   "name": "python3"
  },
  "language_info": {
   "codemirror_mode": {
    "name": "ipython",
    "version": 3
   },
   "file_extension": ".py",
   "mimetype": "text/x-python",
   "name": "python",
   "nbconvert_exporter": "python",
   "pygments_lexer": "ipython3",
   "version": "3.13.2"
  }
 },
 "nbformat": 4,
 "nbformat_minor": 5
}
