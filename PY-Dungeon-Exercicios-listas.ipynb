{
 "cells": [
  {
   "cell_type": "markdown",
   "id": "a3c63664",
   "metadata": {},
   "source": [
    "# Exercícios sobre Uso de Listas\n",
    "\n",
    "1. **Criação de Lista**  \n",
    "   Crie uma lista chamada `itens` contendo os nomes de três objetos encontrados em uma sala do dungeon.\n",
    "\n",
    "\n"
   ]
  },
  {
   "cell_type": "code",
   "execution_count": 4,
   "id": "b8beb4a3",
   "metadata": {},
   "outputs": [],
   "source": [
    "itens = ['espada', 'escudo', 'poção']"
   ]
  },
  {
   "cell_type": "markdown",
   "id": "be6fe4a2",
   "metadata": {},
   "source": [
    "2. **Acesso a Elementos**  \n",
    "   Dada a lista `itens = [\"espada\", \"escudo\", \"poção\"]`, escreva um código para imprimir o segundo item da lista.\n",
    "\n"
   ]
  },
  {
   "cell_type": "code",
   "execution_count": 5,
   "id": "27a837e4",
   "metadata": {},
   "outputs": [
    {
     "name": "stdout",
     "output_type": "stream",
     "text": [
      "escudo\n"
     ]
    }
   ],
   "source": [
    "print(itens[1])"
   ]
  },
  {
   "cell_type": "markdown",
   "id": "d554c73f",
   "metadata": {},
   "source": [
    "3. **Adição e Remoção**  \n",
    "   Adicione o item `\"chave\"` à lista `itens` e depois remova o item `\"escudo\"`.\n",
    "\n"
   ]
  },
  {
   "cell_type": "code",
   "execution_count": 6,
   "id": "e7303d27",
   "metadata": {},
   "outputs": [],
   "source": [
    "itens.append('chave')\n",
    "itens.remove('escudo')"
   ]
  },
  {
   "cell_type": "markdown",
   "id": "80ed6c91",
   "metadata": {},
   "source": [
    "4. **Percorrendo Listas**  \n",
    "   Escreva um laço que percorra a lista `itens` e imprima cada elemento.\n",
    "\n"
   ]
  },
  {
   "cell_type": "code",
   "execution_count": 7,
   "id": "8e5bd8f1",
   "metadata": {},
   "outputs": [
    {
     "name": "stdout",
     "output_type": "stream",
     "text": [
      "espada\n",
      "poção\n",
      "chave\n"
     ]
    }
   ],
   "source": [
    "for i in itens:\n",
    "    print(i)"
   ]
  },
  {
   "cell_type": "markdown",
   "id": "262735b5",
   "metadata": {},
   "source": [
    "5. **Listas de Listas**  \n",
    "   Crie uma lista chamada `inventarios` onde cada elemento é uma lista representando os itens de diferentes personagens. Adicione pelo menos dois inventários diferentes."
   ]
  },
  {
   "cell_type": "code",
   "execution_count": 8,
   "id": "10785bc5",
   "metadata": {},
   "outputs": [],
   "source": [
    "inventarios = [['espada', 'lança', 'escudo'], ['cajado', 'poção', 'varinha']]\n"
   ]
  }
 ],
 "metadata": {
  "kernelspec": {
   "display_name": "Python 3",
   "language": "python",
   "name": "python3"
  },
  "language_info": {
   "codemirror_mode": {
    "name": "ipython",
    "version": 3
   },
   "file_extension": ".py",
   "mimetype": "text/x-python",
   "name": "python",
   "nbconvert_exporter": "python",
   "pygments_lexer": "ipython3",
   "version": "3.13.2"
  }
 },
 "nbformat": 4,
 "nbformat_minor": 5
}
